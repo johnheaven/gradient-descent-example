{
 "cells": [
  {
   "cell_type": "markdown",
   "id": "55003ca1-952f-4619-be3e-61e8adb0b044",
   "metadata": {},
   "source": [
    "# Simple gradient descent on $ x^{2} $"
   ]
  },
  {
   "cell_type": "markdown",
   "id": "ee735340-af3b-4f4b-b2ec-93a7561100be",
   "metadata": {},
   "source": [
    "This illustrates how gradient descent works without getting too complicated.\n",
    "\n",
    "Gradient descent attempts to minimise the output of a function – any function – step by step. Here, we choose a very basic function that return $ x^{2} $, based on [this tutorial](https://mccormickml.com/2014/03/04/gradient-descent-derivation/).\n",
    "\n",
    "The tutorial contains the data for the first ten iterations, so it's useful to compare results.\n",
    "\n",
    "\n",
    "To grasp the basic principle, you don't yet need to familiarise yourself with derivatives. Just accept, for the time being, that the derivative of $ x $ for $ x^{2} $ is $ 2x $."
   ]
  },
  {
   "cell_type": "code",
   "execution_count": 73,
   "id": "d1337a9e-e3ca-40a4-bc18-6409ca5325c7",
   "metadata": {},
   "outputs": [],
   "source": [
    "import numpy as np\n",
    "import pandas as pd\n",
    "\n",
    "import matplotlib.pyplot as plt"
   ]
  },
  {
   "cell_type": "code",
   "execution_count": 74,
   "id": "7ad4c50f-1250-45d4-aa6d-b7cecf9ace9c",
   "metadata": {},
   "outputs": [],
   "source": [
    "def f(x):\n",
    "    return x**2"
   ]
  },
  {
   "cell_type": "code",
   "execution_count": 75,
   "id": "f2dfd39f-c578-4bfb-88fe-db66b2744225",
   "metadata": {},
   "outputs": [],
   "source": [
    "# alpha / learning rate\n",
    "l_r = 0.1\n",
    "\n",
    "# theta, i.e. starting point\n",
    "theta = 3\n",
    "\n",
    "# define no. iterations\n",
    "iterations = 20\n",
    "\n",
    "df = pd.DataFrame({\"Theta\": [np.nan] * iterations})\n",
    "df[\"Cost\"] = np.nan\n",
    "df.at[0, \"Theta\"] = theta"
   ]
  },
  {
   "cell_type": "code",
   "execution_count": 76,
   "id": "daf8864f-98e1-43a5-a48b-11465a2fe047",
   "metadata": {},
   "outputs": [],
   "source": [
    "def deriv(x):\n",
    "    # derivative, which for x^2 is 2. This tells us the gradient at any particular point.\n",
    "    return x * 2\n",
    "\n",
    "def step(theta, l_r):\n",
    "    cost = f(theta)\n",
    "    new_theta = theta - l_r * deriv(theta)\n",
    "    return cost, new_theta\n",
    "\n",
    "def gradient_descent(df, l_r):\n",
    "    for i, row in df.iterrows():\n",
    "        theta = df.at[i, \"Theta\"]\n",
    "        cost, new_theta = step(theta, l_r)\n",
    "        df.at[i, \"Cost\"] = cost\n",
    "        next_i = i + 1\n",
    "        if next_i in df.index: df.at[next_i, \"Theta\"] = new_theta\n",
    "\n",
    "gradient_descent(df, l_r)"
   ]
  },
  {
   "cell_type": "code",
   "execution_count": 77,
   "id": "c28763aa-82b6-4a7a-9a36-a837a99e93e7",
   "metadata": {},
   "outputs": [
    {
     "data": {
      "text/html": [
       "<div>\n",
       "<style scoped>\n",
       "    .dataframe tbody tr th:only-of-type {\n",
       "        vertical-align: middle;\n",
       "    }\n",
       "\n",
       "    .dataframe tbody tr th {\n",
       "        vertical-align: top;\n",
       "    }\n",
       "\n",
       "    .dataframe thead th {\n",
       "        text-align: right;\n",
       "    }\n",
       "</style>\n",
       "<table border=\"1\" class=\"dataframe\">\n",
       "  <thead>\n",
       "    <tr style=\"text-align: right;\">\n",
       "      <th></th>\n",
       "      <th>Theta</th>\n",
       "      <th>Cost</th>\n",
       "    </tr>\n",
       "  </thead>\n",
       "  <tbody>\n",
       "    <tr>\n",
       "      <th>0</th>\n",
       "      <td>3.000000</td>\n",
       "      <td>9.000000</td>\n",
       "    </tr>\n",
       "    <tr>\n",
       "      <th>1</th>\n",
       "      <td>2.400000</td>\n",
       "      <td>5.760000</td>\n",
       "    </tr>\n",
       "    <tr>\n",
       "      <th>2</th>\n",
       "      <td>1.920000</td>\n",
       "      <td>3.686400</td>\n",
       "    </tr>\n",
       "    <tr>\n",
       "      <th>3</th>\n",
       "      <td>1.536000</td>\n",
       "      <td>2.359296</td>\n",
       "    </tr>\n",
       "    <tr>\n",
       "      <th>4</th>\n",
       "      <td>1.228800</td>\n",
       "      <td>1.509949</td>\n",
       "    </tr>\n",
       "    <tr>\n",
       "      <th>5</th>\n",
       "      <td>0.983040</td>\n",
       "      <td>0.966368</td>\n",
       "    </tr>\n",
       "    <tr>\n",
       "      <th>6</th>\n",
       "      <td>0.786432</td>\n",
       "      <td>0.618475</td>\n",
       "    </tr>\n",
       "    <tr>\n",
       "      <th>7</th>\n",
       "      <td>0.629146</td>\n",
       "      <td>0.395824</td>\n",
       "    </tr>\n",
       "    <tr>\n",
       "      <th>8</th>\n",
       "      <td>0.503316</td>\n",
       "      <td>0.253327</td>\n",
       "    </tr>\n",
       "    <tr>\n",
       "      <th>9</th>\n",
       "      <td>0.402653</td>\n",
       "      <td>0.162130</td>\n",
       "    </tr>\n",
       "    <tr>\n",
       "      <th>10</th>\n",
       "      <td>0.322123</td>\n",
       "      <td>0.103763</td>\n",
       "    </tr>\n",
       "    <tr>\n",
       "      <th>11</th>\n",
       "      <td>0.257698</td>\n",
       "      <td>0.066408</td>\n",
       "    </tr>\n",
       "    <tr>\n",
       "      <th>12</th>\n",
       "      <td>0.206158</td>\n",
       "      <td>0.042501</td>\n",
       "    </tr>\n",
       "    <tr>\n",
       "      <th>13</th>\n",
       "      <td>0.164927</td>\n",
       "      <td>0.027201</td>\n",
       "    </tr>\n",
       "    <tr>\n",
       "      <th>14</th>\n",
       "      <td>0.131941</td>\n",
       "      <td>0.017409</td>\n",
       "    </tr>\n",
       "    <tr>\n",
       "      <th>15</th>\n",
       "      <td>0.105553</td>\n",
       "      <td>0.011141</td>\n",
       "    </tr>\n",
       "    <tr>\n",
       "      <th>16</th>\n",
       "      <td>0.084442</td>\n",
       "      <td>0.007131</td>\n",
       "    </tr>\n",
       "    <tr>\n",
       "      <th>17</th>\n",
       "      <td>0.067554</td>\n",
       "      <td>0.004564</td>\n",
       "    </tr>\n",
       "    <tr>\n",
       "      <th>18</th>\n",
       "      <td>0.054043</td>\n",
       "      <td>0.002921</td>\n",
       "    </tr>\n",
       "    <tr>\n",
       "      <th>19</th>\n",
       "      <td>0.043235</td>\n",
       "      <td>0.001869</td>\n",
       "    </tr>\n",
       "  </tbody>\n",
       "</table>\n",
       "</div>"
      ],
      "text/plain": [
       "       Theta      Cost\n",
       "0   3.000000  9.000000\n",
       "1   2.400000  5.760000\n",
       "2   1.920000  3.686400\n",
       "3   1.536000  2.359296\n",
       "4   1.228800  1.509949\n",
       "5   0.983040  0.966368\n",
       "6   0.786432  0.618475\n",
       "7   0.629146  0.395824\n",
       "8   0.503316  0.253327\n",
       "9   0.402653  0.162130\n",
       "10  0.322123  0.103763\n",
       "11  0.257698  0.066408\n",
       "12  0.206158  0.042501\n",
       "13  0.164927  0.027201\n",
       "14  0.131941  0.017409\n",
       "15  0.105553  0.011141\n",
       "16  0.084442  0.007131\n",
       "17  0.067554  0.004564\n",
       "18  0.054043  0.002921\n",
       "19  0.043235  0.001869"
      ]
     },
     "execution_count": 77,
     "metadata": {},
     "output_type": "execute_result"
    }
   ],
   "source": [
    "df"
   ]
  },
  {
   "cell_type": "code",
   "execution_count": 78,
   "id": "003b887e-4c6c-452b-9625-bd5f24b266bd",
   "metadata": {},
   "outputs": [
    {
     "data": {
      "text/plain": [
       "Text(0.5, 0.98, 'Theta and Cost during gradient descent on x²')"
      ]
     },
     "execution_count": 78,
     "metadata": {},
     "output_type": "execute_result"
    },
    {
     "data": {
      "image/png": "[encoded data removed]",
      "text/plain": [
       "<Figure size 640x480 with 2 Axes>"
      ]
     },
     "metadata": {},
     "output_type": "display_data"
    }
   ],
   "source": [
    "fig, axs = plt.subplots(1, 2)\n",
    "axs[0].plot(df[\"Theta\"])\n",
    "axs[0].set(title=\"Theta\")\n",
    "axs[1].plot(df[\"Cost\"])\n",
    "axs[1].set(title=\"Cost\")\n",
    "fig.suptitle(\"Theta and Cost during gradient descent on x²\")\n"
   ]
  }
 ],
 "metadata": {
  "kernelspec": {
   "display_name": "Python 3 (ipykernel)",
   "language": "python",
   "name": "python3"
  },
  "language_info": {
   "codemirror_mode": {
    "name": "ipython",
    "version": 3
   },
   "file_extension": ".py",
   "mimetype": "text/x-python",
   "name": "python",
   "nbconvert_exporter": "python",
   "pygments_lexer": "ipython3",
   "version": "3.10.6"
  },
  "vscode": {
   "interpreter": {
    "hash": "f6db2b224d561ec22decf68330c2d8f014828ba705a8cba2f802c207a94ff819"
   }
  }
 },
 "nbformat": 4,
 "nbformat_minor": 5
}
